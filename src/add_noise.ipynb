{
 "cells": [
  {
   "cell_type": "code",
   "execution_count": null,
   "id": "initial_id",
   "metadata": {
    "collapsed": true
   },
   "outputs": [],
   "source": [
    "from ddpm import DDPMSampler\n",
    "\n",
    "from PIL import Image\n",
    "import torch\n",
    "import numpy as np\n",
    "import math\n",
    "\n",
    "generator = torch.Generator()\n",
    "generator.manual_seed(0)\n",
    "\n",
    "ddpm_sampler = DDPMSampler(generator)\n",
    "\n",
    "# How many noise levels to generate\n",
    "noise_levels = [0, 10, 50, 75, 100, 250, 500, 750]\n",
    "\n",
    "img = Image.open(\"../images/dog.jpg\")\n",
    "img_tensor = torch.tensor(np.array(img))\n",
    "img_tensor = ((img_tensor / 255.0) * 2.0) - 1.0\n",
    "# Create a batch by repeating the same image many times\n",
    "batch = img_tensor.repeat(len(noise_levels), 1, 1, 1)\n",
    "\n",
    "ts = torch.tensor(noise_levels, dtype=torch.int, device=batch.device)\n",
    "noise_imgs = []\n",
    "epsilons = torch.randn(batch.shape, device=batch.device)\n",
    "# Generate a noisifed version of the image for each noise level\n",
    "for i in range(len(ts)):\n",
    "    a_hat = ddpm_sampler.alphas_cumprod[ts[i]]\n",
    "    noise_imgs.append(\n",
    "        (math.sqrt(a_hat) * batch[i]) + (math.sqrt(1 - a_hat) * epsilons[i])\n",
    "    )\n",
    "\n",
    "\n",
    "noise_imgs = torch.stack(noise_imgs, dim=0)\n",
    "noise_imgs = (noise_imgs.clamp(-1, 1) + 1) / 2\n",
    "noise_imgs = (noise_imgs * 255).type(torch.uint8)\n",
    "\n",
    "# Convert back to image and display\n",
    "display_img = Image.fromarray(noise_imgs[7].squeeze(0).numpy(), 'RGB')\n",
    "display_img"
   ]
  }
 ],
 "metadata": {
  "kernelspec": {
   "display_name": "Python 3",
   "language": "python",
   "name": "python3"
  },
  "language_info": {
   "codemirror_mode": {
    "name": "ipython",
    "version": 2
   },
   "file_extension": ".py",
   "mimetype": "text/x-python",
   "name": "python",
   "nbconvert_exporter": "python",
   "pygments_lexer": "ipython2",
   "version": "2.7.6"
  }
 },
 "nbformat": 4,
 "nbformat_minor": 5
}
